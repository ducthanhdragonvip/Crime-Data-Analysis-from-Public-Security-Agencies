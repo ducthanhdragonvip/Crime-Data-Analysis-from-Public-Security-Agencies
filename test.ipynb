{
 "cells": [
  {
   "cell_type": "code",
   "execution_count": 1,
   "id": "63650900",
   "metadata": {},
   "outputs": [],
   "source": [
    "import os\n",
    "os.environ[\"JAVA_HOME\"] = \"/usr/lib/jvm/java-17-openjdk-amd64\"\n",
    "os.environ[\"SPARK_HOME\"] = \"/usr/lib/spark\""
   ]
  },
  {
   "cell_type": "code",
   "execution_count": 2,
   "id": "f993fdf8",
   "metadata": {},
   "outputs": [],
   "source": [
    "import datetime\n",
    "import tempfile\n",
    "import pandas as pd"
   ]
  },
  {
   "cell_type": "code",
   "execution_count": 4,
   "id": "d947f36e",
   "metadata": {},
   "outputs": [],
   "source": [
    "gcs_bucket  = 'crime-data-group8'"
   ]
  },
  {
   "cell_type": "code",
   "execution_count": 5,
   "id": "0942c15a",
   "metadata": {},
   "outputs": [],
   "source": [
    "output_path = f\"gs://{gcs_bucket}/US-chicago/2020To-Present/test/chicago.csv\"\n",
    "SPARK_MASTER = 'spark://10.128.0.3:7077'"
   ]
  },
  {
   "cell_type": "code",
   "execution_count": 13,
   "id": "eae68741",
   "metadata": {},
   "outputs": [],
   "source": [
    "import findspark\n",
    "findspark.init()\n",
    "from pyspark.sql import SparkSession\n",
    "from pyspark.sql import functions\n",
    "from pyspark.sql.functions import col, avg ,lit ,to_timestamp ,struct ,from_json, date_format ,to_json ,coalesce, when\n",
    "from pyspark.sql.types import (StructType, StructField, StringType, \n",
    "                              IntegerType, DoubleType, BooleanType, TimestampType)\n",
    "\n",
    "import seaborn as sns\n",
    "spark = SparkSession.builder \\\n",
    "    .appName(\"GCS Integration\") \\\n",
    "    .config(\"spark.jars.packages\", \n",
    "            \"org.apache.spark:spark-sql-kafka-0-10_2.12:3.5.5\") \\\n",
    "    .config(\"spark.hadoop.fs.gs.impl\", \"com.google.cloud.hadoop.fs.gcs.GoogleHadoopFileSystem\") \\\n",
    "    .config(\"spark.hadoop.fs.AbstractFileSystem.gs.impl\", \"com.google.cloud.hadoop.fs.gcs.GoogleHadoopFS\") \\\n",
    "    .config(\"spark.hadoop.google.cloud.auth.service.account.enable\", \"true\") \\\n",
    "    .config(\"spark.hadoop.google.cloud.auth.service.account.json.keyfile\", \"test-456807-0581efb4fbc8.json\") \\\n",
    "    .config(\"spark.sql.legacy.timeParserPolicy\", \"LEGACY\") \\\n",
    "    .config(\"spark.streaming.stopGracefullyOnShutdown\", \"true\") \\\n",
    "    .config(\"spark.sql.streaming.checkpointLocation\", f\"gs://{gcs_bucket}/checkpoints\") \\\n",
    "    .config(\"spark.sql.adaptive.enabled\", \"false\") \\\n",
    "    .getOrCreate()"
   ]
  },
  {
   "cell_type": "code",
   "execution_count": 5,
   "id": "d4b68527",
   "metadata": {},
   "outputs": [
    {
     "name": "stderr",
     "output_type": "stream",
     "text": [
      "                                                                                \r"
     ]
    },
    {
     "name": "stdout",
     "output_type": "stream",
     "text": [
      "+--------+-----------+--------------------+--------------------+----+------------------+--------------------+--------------------+------+--------+----+--------+----+--------------+--------+------------+------------+----+--------------------+------------+-------------+--------------------+\n",
      "|      ID|Case Number|                Date|               Block|IUCR|      Primary Type|         Description|Location Description|Arrest|Domestic|Beat|District|Ward|Community Area|FBI Code|X Coordinate|Y Coordinate|Year|          Updated On|    Latitude|    Longitude|            Location|\n",
      "+--------+-----------+--------------------+--------------------+----+------------------+--------------------+--------------------+------+--------+----+--------+----+--------------+--------+------------+------------+----+--------------------+------------+-------------+--------------------+\n",
      "|13829197|   JJ246652|05/08/2025 12:00:...|     040XX W LAKE ST|1310|   CRIMINAL DAMAGE|         TO PROPERTY|         CTA STATION| false|   false|1114|      11|  28|            26|      14|     1149512|     1901446|2025|05/15/2025 03:42:...|41.885487535|-87.726422045|(41.885487535, -8...|\n",
      "|13829783|   JJ247423|05/08/2025 12:00:...|091XX S EBERHART AVE|0710|             THEFT|THEFT FROM MOTOR ...|              STREET| false|   false| 633|       6|   8|            44|      06|     1181180|     1844514|2025|05/15/2025 03:42:...|41.728587966| -87.61188701|(41.728587966, -8...|\n",
      "|13829409|   JJ246986|05/08/2025 12:00:...|087XX S BLACKSTON...|1153|DECEPTIVE PRACTICE|FINANCIAL IDENTIT...|           APARTMENT| false|   false| 412|       4|   8|            48|      11|     1187647|     1847255|2025|05/15/2025 03:42:...|41.735958374| -87.58811034|(41.735958374, -8...|\n",
      "|13829150|   JJ246602|05/08/2025 12:00:...|036XX W LEXINGTON ST|0820|             THEFT|      $500 AND UNDER|           APARTMENT| false|    true|1133|      11|  24|            27|      06|     1152148|     1896451|2025|05/15/2025 03:42:...|41.871729153|-87.716873835|(41.871729153, -8...|\n",
      "|13833311|   JJ251958|05/08/2025 12:00:...| 115XX S WATKINS AVE|1153|DECEPTIVE PRACTICE|FINANCIAL IDENTIT...|           RESIDENCE| false|   false|2234|      22|  21|            75|      11|     1166350|     1828232|2025|05/15/2025 03:42:...|41.684235754|-87.666674261|(41.684235754, -8...|\n",
      "+--------+-----------+--------------------+--------------------+----+------------------+--------------------+--------------------+------+--------+----+--------+----+--------------+--------+------------+------------+----+--------------------+------------+-------------+--------------------+\n",
      "only showing top 5 rows\n",
      "\n"
     ]
    }
   ],
   "source": [
    "# Read CSV file from GCS bucket\n",
    "df = spark.read \\\n",
    "    .option(\"header\", \"true\") \\\n",
    "    .option(\"inferSchema\", \"true\") \\\n",
    "    .csv(f\"gs://{gcs_bucket}/Chicago.csv\")\n",
    "\n",
    "# Display first few rows to verify the data\n",
    "df.show(5)"
   ]
  },
  {
   "cell_type": "code",
   "execution_count": 30,
   "id": "e702d05a",
   "metadata": {},
   "outputs": [
    {
     "name": "stderr",
     "output_type": "stream",
     "text": [
      "                                                                                \r"
     ]
    },
    {
     "data": {
      "text/plain": [
       "1259460"
      ]
     },
     "execution_count": 30,
     "metadata": {},
     "output_type": "execute_result"
    }
   ],
   "source": [
    "df.count()"
   ]
  },
  {
   "cell_type": "code",
   "execution_count": 31,
   "id": "32b920d4",
   "metadata": {},
   "outputs": [
    {
     "data": {
      "text/plain": [
       "[('ID', 'int'),\n",
       " ('Case Number', 'string'),\n",
       " ('Date', 'string'),\n",
       " ('Block', 'string'),\n",
       " ('IUCR', 'string'),\n",
       " ('Primary Type', 'string'),\n",
       " ('Description', 'string'),\n",
       " ('Location Description', 'string'),\n",
       " ('Arrest', 'boolean'),\n",
       " ('Domestic', 'boolean'),\n",
       " ('Beat', 'int'),\n",
       " ('District', 'int'),\n",
       " ('Ward', 'int'),\n",
       " ('Community Area', 'int'),\n",
       " ('FBI Code', 'string'),\n",
       " ('X Coordinate', 'int'),\n",
       " ('Y Coordinate', 'int'),\n",
       " ('Year', 'int'),\n",
       " ('Updated On', 'string'),\n",
       " ('Latitude', 'double'),\n",
       " ('Longitude', 'double'),\n",
       " ('Location', 'string')]"
      ]
     },
     "execution_count": 31,
     "metadata": {},
     "output_type": "execute_result"
    }
   ],
   "source": [
    "df.dtypes"
   ]
  },
  {
   "cell_type": "code",
   "execution_count": 6,
   "id": "94b6bde0",
   "metadata": {},
   "outputs": [
    {
     "name": "stdout",
     "output_type": "stream",
     "text": [
      "Schema after conversion:\n",
      "root\n",
      " |-- ID: integer (nullable = true)\n",
      " |-- Case Number: string (nullable = true)\n",
      " |-- Date: timestamp (nullable = true)\n",
      " |-- Block: string (nullable = true)\n",
      " |-- IUCR: string (nullable = true)\n",
      " |-- Primary Type: string (nullable = true)\n",
      " |-- Description: string (nullable = true)\n",
      " |-- Location Description: string (nullable = true)\n",
      " |-- Arrest: boolean (nullable = true)\n",
      " |-- Domestic: boolean (nullable = true)\n",
      " |-- Beat: integer (nullable = true)\n",
      " |-- District: integer (nullable = true)\n",
      " |-- Ward: integer (nullable = true)\n",
      " |-- Community Area: integer (nullable = true)\n",
      " |-- FBI Code: string (nullable = true)\n",
      " |-- X Coordinate: integer (nullable = true)\n",
      " |-- Y Coordinate: integer (nullable = true)\n",
      " |-- Year: integer (nullable = true)\n",
      " |-- Updated On: timestamp (nullable = true)\n",
      " |-- Latitude: double (nullable = true)\n",
      " |-- Longitude: double (nullable = true)\n",
      " |-- Location: string (nullable = true)\n",
      "\n",
      "\n",
      "Sample data with converted timestamps:\n",
      "+-------------------+-------------------+\n",
      "|Date               |Updated On         |\n",
      "+-------------------+-------------------+\n",
      "|2025-05-08 00:00:00|2025-05-15 15:42:05|\n",
      "|2025-05-08 00:00:00|2025-05-15 15:42:05|\n",
      "|2025-05-08 00:00:00|2025-05-15 15:42:05|\n",
      "|2025-05-08 00:00:00|2025-05-15 15:42:05|\n",
      "|2025-05-08 00:00:00|2025-05-15 15:42:05|\n",
      "+-------------------+-------------------+\n",
      "only showing top 5 rows\n",
      "\n"
     ]
    }
   ],
   "source": [
    "# Convert Date and Updated On columns to timestamp\n",
    "df = df.withColumn(\"Date\", \n",
    "    to_timestamp(col(\"Date\"), \"MM/dd/yyyy hh:mm:ss aa\")) \\\n",
    "    .withColumn(\"Updated On\", \n",
    "    to_timestamp(col(\"Updated On\"), \"MM/dd/yyyy hh:mm:ss aa\"))\n",
    "\n",
    "# Verify the conversion\n",
    "print(\"Schema after conversion:\")\n",
    "df.printSchema()\n",
    "\n",
    "# Show sample data to verify conversion\n",
    "print(\"\\nSample data with converted timestamps:\")\n",
    "df.select(\"Date\", \"Updated On\").show(5, truncate=False)"
   ]
  },
  {
   "cell_type": "code",
   "execution_count": 47,
   "id": "0a897ee2",
   "metadata": {},
   "outputs": [
    {
     "name": "stderr",
     "output_type": "stream",
     "text": [
      "[Stage 62:======================================>                   (2 + 1) / 3]\r"
     ]
    },
    {
     "name": "stdout",
     "output_type": "stream",
     "text": [
      "Records before filtering: 1259460\n"
     ]
    },
    {
     "name": "stderr",
     "output_type": "stream",
     "text": [
      "                                                                                \r"
     ]
    },
    {
     "name": "stdout",
     "output_type": "stream",
     "text": [
      "Records after filtering: 1257967\n"
     ]
    },
    {
     "name": "stderr",
     "output_type": "stream",
     "text": [
      "[Stage 68:======================================>                   (2 + 1) / 3]\r"
     ]
    },
    {
     "name": "stdout",
     "output_type": "stream",
     "text": [
      "+-------------------+\n",
      "|         Updated On|\n",
      "+-------------------+\n",
      "|2025-05-15 15:42:05|\n",
      "|2025-05-15 15:42:05|\n",
      "|2025-05-15 15:42:05|\n",
      "|2025-05-15 15:42:05|\n",
      "|2025-05-15 15:42:05|\n",
      "+-------------------+\n",
      "only showing top 5 rows\n",
      "\n"
     ]
    },
    {
     "name": "stderr",
     "output_type": "stream",
     "text": [
      "                                                                                \r"
     ]
    }
   ],
   "source": [
    "# Filter records with the correct timestamp\n",
    "filtered_df = df.filter(col(\"Updated On\") <= \"2025-05-14T01:00:00.000\")\n",
    "\n",
    "# Show the counts\n",
    "print(f\"Records before filtering: {df.count()}\")\n",
    "print(f\"Records after filtering: {filtered_df.count()}\")\n",
    "\n",
    "# Check the highest dates to verify the filtering\n",
    "df.orderBy(col(\"Updated On\").desc()).select(\"Updated On\").show(5)"
   ]
  },
  {
   "cell_type": "code",
   "execution_count": 7,
   "id": "7b414b97",
   "metadata": {},
   "outputs": [],
   "source": [
    "df_kafka = spark.readStream \\\n",
    "    .format(\"kafka\") \\\n",
    "    .option(\"kafka.bootstrap.servers\", \"localhost:9092\") \\\n",
    "    .option(\"subscribe\", \"chicago_crimes_main1\") \\\n",
    "    .option(\"startingOffsets\", \"latest\") \\\n",
    "    .option(\"failOnDataLoss\", \"false\") \\\n",
    "    .load()"
   ]
  },
  {
   "cell_type": "code",
   "execution_count": null,
   "id": "698819a8",
   "metadata": {},
   "outputs": [],
   "source": [
    "schema = StructType([\n",
    "    StructField(\"id\", StringType(), True),\n",
    "    StructField(\"case_number\", StringType(), True),\n",
    "    StructField(\"date\", StringType(), True),\n",
    "    StructField(\"block\", StringType(), True),\n",
    "    StructField(\"iucr\", StringType(), True),\n",
    "    StructField(\"primary_type\", StringType(), True),\n",
    "    StructField(\"description\", StringType(), True),\n",
    "    StructField(\"location_description\", StringType(), True),\n",
    "    StructField(\"arrest\", BooleanType(), True),\n",
    "    StructField(\"domestic\", BooleanType(), True),\n",
    "    StructField(\"beat\", StringType(), True),\n",
    "    StructField(\"district\", StringType(), True),\n",
    "    StructField(\"ward\", StringType(), True),\n",
    "    StructField(\"community_area\", StringType(), True),\n",
    "    StructField(\"fbi_code\", StringType(), True),\n",
    "    StructField(\"x_coordinate\", StringType(), True),  # Changed to StringType\n",
    "    StructField(\"y_coordinate\", StringType(), True),  # Changed to StringType\n",
    "    StructField(\"year\", StringType(), True),         # Changed to StringType\n",
    "    StructField(\"updated_on\", StringType(), True),\n",
    "    StructField(\"latitude\", StringType(), True),\n",
    "    StructField(\"longitude\", StringType(), True),\n",
    "    StructField(\"location\", StructType([\n",
    "        StructField(\"latitude\", StringType(), True),\n",
    "        StructField(\"longitude\", StringType(), True),\n",
    "        StructField(\"human_address\", StringType(), True)\n",
    "    ]), True)\n",
    "])"
   ]
  },
  {
   "cell_type": "code",
   "execution_count": 9,
   "id": "86530746",
   "metadata": {},
   "outputs": [],
   "source": [
    "streaming_df = df_kafka \\\n",
    "    .selectExpr(\"CAST(value AS STRING) as raw_json\") \\\n",
    "    .select(from_json(col(\"raw_json\"), schema).alias(\"data\")) \\\n",
    "    .select(\"data.*\") \\\n",
    "    .withColumnRenamed(\"id\", \"ID\") \\\n",
    "    .withColumnRenamed(\"case_number\", \"Case Number\") \\\n",
    "    .withColumnRenamed(\"date\", \"Date\") \\\n",
    "    .withColumnRenamed(\"block\", \"Block\") \\\n",
    "    .withColumnRenamed(\"iucr\", \"IUCR\") \\\n",
    "    .withColumnRenamed(\"primary_type\", \"Primary Type\") \\\n",
    "    .withColumnRenamed(\"description\", \"Description\") \\\n",
    "    .withColumnRenamed(\"location_description\", \"Location Description\") \\\n",
    "    .withColumnRenamed(\"community_area\", \"Community Area\") \\\n",
    "    .withColumnRenamed(\"fbi_code\", \"FBI Code\") \\\n",
    "    .withColumnRenamed(\"x_coordinate\", \"X Coordinate\") \\\n",
    "    .withColumnRenamed(\"y_coordinate\", \"Y Coordinate\") \\\n",
    "    .withColumnRenamed(\"updated_on\", \"Updated On\") \\\n",
    "    .withColumn(\"Updated On\", to_timestamp(\"Updated On\")) \\\n",
    "    .withColumn(\"Date\", to_timestamp(\"Date\")) \\\n",
    "    .withColumn(\"latitude\", col(\"latitude\").cast(\"double\")) \\\n",
    "    .withColumn(\"longitude\", col(\"longitude\").cast(\"double\"))"
   ]
  },
  {
   "cell_type": "code",
   "execution_count": null,
   "id": "4cdb9c02",
   "metadata": {},
   "outputs": [],
   "source": [
    "# Format the streaming data before writing\n",
    "formatted_streaming_df = streaming_df.select(\n",
    "    col(\"ID\"),\n",
    "    col(\"Case Number\"),\n",
    "    date_format(col(\"Date\"), \"yyyy-MM-dd HH:mm:ss\").alias(\"Date\"),\n",
    "    col(\"Block\"),\n",
    "    col(\"IUCR\"),\n",
    "    col(\"Primary Type\"),\n",
    "    col(\"Description\"),\n",
    "    col(\"Location Description\"),\n",
    "    col(\"arrest\"),\n",
    "    col(\"domestic\"),\n",
    "    col(\"beat\"),\n",
    "    col(\"district\"),\n",
    "    col(\"ward\"),\n",
    "    col(\"Community Area\"),\n",
    "    col(\"FBI Code\"),\n",
    "    # Handle coordinates without casting since they're already strings\n",
    "    col(\"X Coordinate\"),\n",
    "    col(\"Y Coordinate\"),\n",
    "    col(\"year\"),\n",
    "    date_format(col(\"Updated On\"), \"yyyy-MM-dd HH:mm:ss\").alias(\"Updated On\"),\n",
    "    col(\"latitude\"),\n",
    "    col(\"longitude\"),\n",
    "    # Handle location with proper struct type\n",
    "    when(col(\"location\").isNotNull(), \n",
    "        to_json(struct(\n",
    "            coalesce(col(\"location.latitude\"), col(\"latitude\")).alias(\"latitude\"),\n",
    "            coalesce(col(\"location.longitude\"), col(\"longitude\")).alias(\"longitude\"),\n",
    "            coalesce(col(\"location.human_address\"), \n",
    "                    lit(\"{\\\"address\\\": \\\"\\\", \\\"city\\\": \\\"\\\", \\\"state\\\": \\\"\\\", \\\"zip\\\": \\\"\\\"}\"))\n",
    "                .alias(\"human_address\")\n",
    "        ))\n",
    "    ).alias(\"location\")\n",
    ")\n",
    "\n"
   ]
  },
  {
   "cell_type": "code",
   "execution_count": 11,
   "id": "d325f936",
   "metadata": {},
   "outputs": [],
   "source": [
    "def write_batch(batch_df, batch_id):\n",
    "    \"\"\"\n",
    "    Write batch data to existing CSV file in GCS bucket\n",
    "    \"\"\"\n",
    "    # Format the data consistently with existing CSV\n",
    "    batch_to_write = batch_df.select(\n",
    "        \"ID\", \"Case Number\", \"Date\", \"Block\", \"IUCR\",\n",
    "        \"Primary Type\", \"Description\", \"Location Description\",\n",
    "        \"arrest\", \"domestic\", \"beat\", \"district\", \"ward\",\n",
    "        \"Community Area\", \"FBI Code\", \"X Coordinate\", \"Y Coordinate\",\n",
    "        \"year\", \"Updated On\", \"latitude\", \"longitude\"\n",
    "    )\n",
    "    \n",
    "    # Use a directory path instead of direct file path\n",
    "    output_dir = f\"gs://{gcs_bucket}/US-chicago/2020To-Present/test/streaming_output\"\n",
    "    \n",
    "    try:\n",
    "        # Write to GCS bucket with unique batch ID to avoid conflicts\n",
    "        batch_to_write.coalesce(1) \\\n",
    "            .write \\\n",
    "            .format(\"csv\") \\\n",
    "            .mode(\"append\") \\\n",
    "            .option(\"header\", \"false\") \\\n",
    "            .option(\"compression\", \"none\") \\\n",
    "            .save(output_dir)\n",
    "    except Exception as e:\n",
    "        print(f\"Error writing batch {batch_id}: {str(e)}\")\n",
    "        raise e"
   ]
  },
  {
   "cell_type": "code",
   "execution_count": 12,
   "id": "4cdb9c02",
   "metadata": {},
   "outputs": [
    {
     "name": "stderr",
     "output_type": "stream",
     "text": [
      "25/05/19 03:56:00 WARN AdminClientConfig: These configurations '[key.deserializer, value.deserializer, enable.auto.commit, max.poll.records, auto.offset.reset]' were supplied but are not used yet.\n",
      "ERROR:root:KeyboardInterrupt while sending command.                             \n",
      "Traceback (most recent call last):\n",
      "  File \"/usr/lib/spark/python/lib/py4j-0.10.9.7-src.zip/py4j/java_gateway.py\", line 1038, in send_command\n",
      "    response = connection.send_command(command)\n",
      "  File \"/usr/lib/spark/python/lib/py4j-0.10.9.7-src.zip/py4j/clientserver.py\", line 511, in send_command\n",
      "    answer = smart_decode(self.stream.readline()[:-1])\n",
      "  File \"/usr/lib/python3.8/socket.py\", line 669, in readinto\n",
      "    return self._sock.recv_into(b)\n",
      "KeyboardInterrupt\n"
     ]
    },
    {
     "ename": "KeyboardInterrupt",
     "evalue": "",
     "output_type": "error",
     "traceback": [
      "\u001b[0;31m---------------------------------------------------------------------------\u001b[0m",
      "\u001b[0;31mKeyboardInterrupt\u001b[0m                         Traceback (most recent call last)",
      "Cell \u001b[0;32mIn[12], line 7\u001b[0m\n\u001b[1;32m      1\u001b[0m query \u001b[38;5;241m=\u001b[39m formatted_streaming_df \\\n\u001b[1;32m      2\u001b[0m     \u001b[38;5;241m.\u001b[39mwriteStream \\\n\u001b[1;32m      3\u001b[0m     \u001b[38;5;241m.\u001b[39mforeachBatch(write_batch) \\\n\u001b[1;32m      4\u001b[0m     \u001b[38;5;241m.\u001b[39moption(\u001b[38;5;124m\"\u001b[39m\u001b[38;5;124mcheckpointLocation\u001b[39m\u001b[38;5;124m\"\u001b[39m, \u001b[38;5;124mf\u001b[39m\u001b[38;5;124m\"\u001b[39m\u001b[38;5;124mgs://\u001b[39m\u001b[38;5;132;01m{\u001b[39;00mgcs_bucket\u001b[38;5;132;01m}\u001b[39;00m\u001b[38;5;124m/checkpoints\u001b[39m\u001b[38;5;124m\"\u001b[39m) \\\n\u001b[1;32m      5\u001b[0m     \u001b[38;5;241m.\u001b[39mtrigger(processingTime\u001b[38;5;241m=\u001b[39m\u001b[38;5;124m\"\u001b[39m\u001b[38;5;124m1 minute\u001b[39m\u001b[38;5;124m\"\u001b[39m) \\\n\u001b[1;32m      6\u001b[0m     \u001b[38;5;241m.\u001b[39mstart()\n\u001b[0;32m----> 7\u001b[0m \u001b[43mquery\u001b[49m\u001b[38;5;241;43m.\u001b[39;49m\u001b[43mawaitTermination\u001b[49m\u001b[43m(\u001b[49m\u001b[43m)\u001b[49m\n",
      "File \u001b[0;32m/usr/lib/spark/python/pyspark/sql/streaming/query.py:221\u001b[0m, in \u001b[0;36mStreamingQuery.awaitTermination\u001b[0;34m(self, timeout)\u001b[0m\n\u001b[1;32m    219\u001b[0m     \u001b[38;5;28;01mreturn\u001b[39;00m \u001b[38;5;28mself\u001b[39m\u001b[38;5;241m.\u001b[39m_jsq\u001b[38;5;241m.\u001b[39mawaitTermination(\u001b[38;5;28mint\u001b[39m(timeout \u001b[38;5;241m*\u001b[39m \u001b[38;5;241m1000\u001b[39m))\n\u001b[1;32m    220\u001b[0m \u001b[38;5;28;01melse\u001b[39;00m:\n\u001b[0;32m--> 221\u001b[0m     \u001b[38;5;28;01mreturn\u001b[39;00m \u001b[38;5;28;43mself\u001b[39;49m\u001b[38;5;241;43m.\u001b[39;49m\u001b[43m_jsq\u001b[49m\u001b[38;5;241;43m.\u001b[39;49m\u001b[43mawaitTermination\u001b[49m\u001b[43m(\u001b[49m\u001b[43m)\u001b[49m\n",
      "File \u001b[0;32m/usr/lib/spark/python/lib/py4j-0.10.9.7-src.zip/py4j/java_gateway.py:1321\u001b[0m, in \u001b[0;36mJavaMember.__call__\u001b[0;34m(self, *args)\u001b[0m\n\u001b[1;32m   1314\u001b[0m args_command, temp_args \u001b[38;5;241m=\u001b[39m \u001b[38;5;28mself\u001b[39m\u001b[38;5;241m.\u001b[39m_build_args(\u001b[38;5;241m*\u001b[39margs)\n\u001b[1;32m   1316\u001b[0m command \u001b[38;5;241m=\u001b[39m proto\u001b[38;5;241m.\u001b[39mCALL_COMMAND_NAME \u001b[38;5;241m+\u001b[39m\\\n\u001b[1;32m   1317\u001b[0m     \u001b[38;5;28mself\u001b[39m\u001b[38;5;241m.\u001b[39mcommand_header \u001b[38;5;241m+\u001b[39m\\\n\u001b[1;32m   1318\u001b[0m     args_command \u001b[38;5;241m+\u001b[39m\\\n\u001b[1;32m   1319\u001b[0m     proto\u001b[38;5;241m.\u001b[39mEND_COMMAND_PART\n\u001b[0;32m-> 1321\u001b[0m answer \u001b[38;5;241m=\u001b[39m \u001b[38;5;28;43mself\u001b[39;49m\u001b[38;5;241;43m.\u001b[39;49m\u001b[43mgateway_client\u001b[49m\u001b[38;5;241;43m.\u001b[39;49m\u001b[43msend_command\u001b[49m\u001b[43m(\u001b[49m\u001b[43mcommand\u001b[49m\u001b[43m)\u001b[49m\n\u001b[1;32m   1322\u001b[0m return_value \u001b[38;5;241m=\u001b[39m get_return_value(\n\u001b[1;32m   1323\u001b[0m     answer, \u001b[38;5;28mself\u001b[39m\u001b[38;5;241m.\u001b[39mgateway_client, \u001b[38;5;28mself\u001b[39m\u001b[38;5;241m.\u001b[39mtarget_id, \u001b[38;5;28mself\u001b[39m\u001b[38;5;241m.\u001b[39mname)\n\u001b[1;32m   1325\u001b[0m \u001b[38;5;28;01mfor\u001b[39;00m temp_arg \u001b[38;5;129;01min\u001b[39;00m temp_args:\n",
      "File \u001b[0;32m/usr/lib/spark/python/lib/py4j-0.10.9.7-src.zip/py4j/java_gateway.py:1038\u001b[0m, in \u001b[0;36mGatewayClient.send_command\u001b[0;34m(self, command, retry, binary)\u001b[0m\n\u001b[1;32m   1036\u001b[0m connection \u001b[38;5;241m=\u001b[39m \u001b[38;5;28mself\u001b[39m\u001b[38;5;241m.\u001b[39m_get_connection()\n\u001b[1;32m   1037\u001b[0m \u001b[38;5;28;01mtry\u001b[39;00m:\n\u001b[0;32m-> 1038\u001b[0m     response \u001b[38;5;241m=\u001b[39m \u001b[43mconnection\u001b[49m\u001b[38;5;241;43m.\u001b[39;49m\u001b[43msend_command\u001b[49m\u001b[43m(\u001b[49m\u001b[43mcommand\u001b[49m\u001b[43m)\u001b[49m\n\u001b[1;32m   1039\u001b[0m     \u001b[38;5;28;01mif\u001b[39;00m binary:\n\u001b[1;32m   1040\u001b[0m         \u001b[38;5;28;01mreturn\u001b[39;00m response, \u001b[38;5;28mself\u001b[39m\u001b[38;5;241m.\u001b[39m_create_connection_guard(connection)\n",
      "File \u001b[0;32m/usr/lib/spark/python/lib/py4j-0.10.9.7-src.zip/py4j/clientserver.py:511\u001b[0m, in \u001b[0;36mClientServerConnection.send_command\u001b[0;34m(self, command)\u001b[0m\n\u001b[1;32m    509\u001b[0m \u001b[38;5;28;01mtry\u001b[39;00m:\n\u001b[1;32m    510\u001b[0m     \u001b[38;5;28;01mwhile\u001b[39;00m \u001b[38;5;28;01mTrue\u001b[39;00m:\n\u001b[0;32m--> 511\u001b[0m         answer \u001b[38;5;241m=\u001b[39m smart_decode(\u001b[38;5;28;43mself\u001b[39;49m\u001b[38;5;241;43m.\u001b[39;49m\u001b[43mstream\u001b[49m\u001b[38;5;241;43m.\u001b[39;49m\u001b[43mreadline\u001b[49m\u001b[43m(\u001b[49m\u001b[43m)\u001b[49m[:\u001b[38;5;241m-\u001b[39m\u001b[38;5;241m1\u001b[39m])\n\u001b[1;32m    512\u001b[0m         logger\u001b[38;5;241m.\u001b[39mdebug(\u001b[38;5;124m\"\u001b[39m\u001b[38;5;124mAnswer received: \u001b[39m\u001b[38;5;132;01m{0}\u001b[39;00m\u001b[38;5;124m\"\u001b[39m\u001b[38;5;241m.\u001b[39mformat(answer))\n\u001b[1;32m    513\u001b[0m         \u001b[38;5;66;03m# Happens when a the other end is dead. There might be an empty\u001b[39;00m\n\u001b[1;32m    514\u001b[0m         \u001b[38;5;66;03m# answer before the socket raises an error.\u001b[39;00m\n",
      "File \u001b[0;32m/usr/lib/python3.8/socket.py:669\u001b[0m, in \u001b[0;36mSocketIO.readinto\u001b[0;34m(self, b)\u001b[0m\n\u001b[1;32m    667\u001b[0m \u001b[38;5;28;01mwhile\u001b[39;00m \u001b[38;5;28;01mTrue\u001b[39;00m:\n\u001b[1;32m    668\u001b[0m     \u001b[38;5;28;01mtry\u001b[39;00m:\n\u001b[0;32m--> 669\u001b[0m         \u001b[38;5;28;01mreturn\u001b[39;00m \u001b[38;5;28;43mself\u001b[39;49m\u001b[38;5;241;43m.\u001b[39;49m\u001b[43m_sock\u001b[49m\u001b[38;5;241;43m.\u001b[39;49m\u001b[43mrecv_into\u001b[49m\u001b[43m(\u001b[49m\u001b[43mb\u001b[49m\u001b[43m)\u001b[49m\n\u001b[1;32m    670\u001b[0m     \u001b[38;5;28;01mexcept\u001b[39;00m timeout:\n\u001b[1;32m    671\u001b[0m         \u001b[38;5;28mself\u001b[39m\u001b[38;5;241m.\u001b[39m_timeout_occurred \u001b[38;5;241m=\u001b[39m \u001b[38;5;28;01mTrue\u001b[39;00m\n",
      "\u001b[0;31mKeyboardInterrupt\u001b[0m: "
     ]
    },
    {
     "name": "stderr",
     "output_type": "stream",
     "text": [
      "                                                                                \r"
     ]
    }
   ],
   "source": [
    "query = formatted_streaming_df \\\n",
    "    .writeStream \\\n",
    "    .foreachBatch(write_batch) \\\n",
    "    .option(\"checkpointLocation\", f\"gs://{gcs_bucket}/checkpoints\") \\\n",
    "    .trigger(processingTime=\"1 minute\") \\\n",
    "    .start()\n",
    "query.awaitTermination()"
   ]
  },
  {
   "cell_type": "code",
   "execution_count": 16,
   "id": "76c38060",
   "metadata": {},
   "outputs": [],
   "source": [
    "df_kafka = spark.read \\\n",
    "    .format(\"kafka\") \\\n",
    "    .option(\"kafka.bootstrap.servers\", \"localhost:9092\") \\\n",
    "    .option(\"subscribe\", 'chicago_crimes') \\\n",
    "    .option(\"startingOffsets\", \"earliest\") \\\n",
    "    .load()"
   ]
  },
  {
   "cell_type": "code",
   "execution_count": 17,
   "id": "29941bb7",
   "metadata": {},
   "outputs": [
    {
     "name": "stderr",
     "output_type": "stream",
     "text": [
      "25/05/22 09:52:30 WARN AdminClientConfig: These configurations '[key.deserializer, value.deserializer, enable.auto.commit, max.poll.records, auto.offset.reset]' were supplied but are not used yet.\n"
     ]
    },
    {
     "name": "stdout",
     "output_type": "stream",
     "text": [
      "+--------------------+\n",
      "|            raw_json|\n",
      "+--------------------+\n",
      "|{\"id\": \"13831323\"...|\n",
      "|{\"id\": \"13831657\"...|\n",
      "|{\"id\": \"13831985\"...|\n",
      "|{\"id\": \"13832376\"...|\n",
      "|{\"id\": \"13833431\"...|\n",
      "+--------------------+\n",
      "only showing top 5 rows\n",
      "\n"
     ]
    }
   ],
   "source": [
    "df_raw = df_kafka.select(col(\"value\").cast(\"string\").alias(\"raw_json\"))\n",
    "df_raw.show(5)"
   ]
  },
  {
   "cell_type": "code",
   "execution_count": 18,
   "id": "8d4a6b22",
   "metadata": {},
   "outputs": [
    {
     "name": "stderr",
     "output_type": "stream",
     "text": [
      "25/05/22 09:52:33 WARN AdminClientConfig: These configurations '[key.deserializer, value.deserializer, enable.auto.commit, max.poll.records, auto.offset.reset]' were supplied but are not used yet.\n"
     ]
    },
    {
     "name": "stdout",
     "output_type": "stream",
     "text": [
      "+-----------------------------------------------------------------------------------------------------------------------------------------------------------------------------------------------------------------------------------------------------------------------------------------------------------------------------------------------------------------------------------------------------------------------------------------------------------------------------------------------------------------------------------------------------------------------------------------------------------------------------------------------------------------------------------------------------------------------------------------------------------+\n",
      "|raw_json                                                                                                                                                                                                                                                                                                                                                                                                                                                                                                                                                                                                                                                                                                                                                   |\n",
      "+-----------------------------------------------------------------------------------------------------------------------------------------------------------------------------------------------------------------------------------------------------------------------------------------------------------------------------------------------------------------------------------------------------------------------------------------------------------------------------------------------------------------------------------------------------------------------------------------------------------------------------------------------------------------------------------------------------------------------------------------------------------+\n",
      "|{\"id\": \"13831323\", \"case_number\": \"JJ249309\", \"date\": \"2025-05-10T09:41:00.000\", \"block\": \"072XX N DAMEN AVE\", \"iucr\": \"0460\", \"primary_type\": \"BATTERY\", \"description\": \"SIMPLE\", \"location_description\": \"APARTMENT\", \"arrest\": true, \"domestic\": false, \"beat\": \"2424\", \"district\": \"024\", \"ward\": \"49\", \"community_area\": \"1\", \"fbi_code\": \"08B\", \"x_coordinate\": \"1161718\", \"y_coordinate\": \"1948098\", \"year\": \"2025\", \"updated_on\": \"2025-05-18T15:41:36.000\", \"latitude\": \"42.01325753\", \"longitude\": \"-87.680293897\", \"location\": {\"latitude\": \"42.01325753\", \"longitude\": \"-87.680293897\", \"human_address\": \"{\\\"address\\\": \\\"\\\", \\\"city\\\": \\\"\\\", \\\"state\\\": \\\"\\\", \\\"zip\\\": \\\"\\\"}\"}}                                                               |\n",
      "|{\"id\": \"13831657\", \"case_number\": \"JJ249710\", \"date\": \"2025-05-10T15:30:00.000\", \"block\": \"078XX S MARSHFIELD AVE\", \"iucr\": \"0320\", \"primary_type\": \"ROBBERY\", \"description\": \"STRONG ARM - NO WEAPON\", \"location_description\": \"SIDEWALK\", \"arrest\": false, \"domestic\": false, \"beat\": \"0611\", \"district\": \"006\", \"ward\": \"17\", \"community_area\": \"71\", \"fbi_code\": \"03\", \"x_coordinate\": \"1166703\", \"y_coordinate\": \"1852821\", \"year\": \"2025\", \"updated_on\": \"2025-05-18T15:41:36.000\", \"latitude\": \"41.751704315\", \"longitude\": \"-87.664682949\", \"location\": {\"latitude\": \"41.751704315\", \"longitude\": \"-87.664682949\", \"human_address\": \"{\\\"address\\\": \\\"\\\", \\\"city\\\": \\\"\\\", \\\"state\\\": \\\"\\\", \\\"zip\\\": \\\"\\\"}\"}}                                        |\n",
      "|{\"id\": \"13831985\", \"case_number\": \"JJ250075\", \"date\": \"2025-05-10T22:37:00.000\", \"block\": \"019XX N AUSTIN AVE\", \"iucr\": \"0550\", \"primary_type\": \"ASSAULT\", \"description\": \"AGGRAVATED POLICE OFFICER - HANDGUN\", \"location_description\": \"PARKING LOT / GARAGE (NON RESIDENTIAL)\", \"arrest\": false, \"domestic\": false, \"beat\": \"2513\", \"district\": \"025\", \"ward\": \"29\", \"community_area\": \"25\", \"fbi_code\": \"04A\", \"x_coordinate\": \"1136098\", \"y_coordinate\": \"1912178\", \"year\": \"2025\", \"updated_on\": \"2025-05-18T15:41:36.000\", \"latitude\": \"41.915187259\", \"longitude\": \"-87.775425225\", \"location\": {\"latitude\": \"41.915187259\", \"longitude\": \"-87.775425225\", \"human_address\": \"{\\\"address\\\": \\\"\\\", \\\"city\\\": \\\"\\\", \\\"state\\\": \\\"\\\", \\\"zip\\\": \\\"\\\"}\"}}|\n",
      "|{\"id\": \"13832376\", \"case_number\": \"JJ250617\", \"date\": \"2025-05-10T10:00:00.000\", \"block\": \"028XX E 81ST ST\", \"iucr\": \"0560\", \"primary_type\": \"ASSAULT\", \"description\": \"SIMPLE\", \"location_description\": \"APARTMENT\", \"arrest\": false, \"domestic\": false, \"beat\": \"0422\", \"district\": \"004\", \"ward\": \"7\", \"community_area\": \"46\", \"fbi_code\": \"08A\", \"x_coordinate\": \"1196349\", \"y_coordinate\": \"1851804\", \"year\": \"2025\", \"updated_on\": \"2025-05-18T15:41:36.000\", \"latitude\": \"41.748229999\", \"longitude\": \"-87.556079463\", \"location\": {\"latitude\": \"41.748229999\", \"longitude\": \"-87.556079463\", \"human_address\": \"{\\\"address\\\": \\\"\\\", \\\"city\\\": \\\"\\\", \\\"state\\\": \\\"\\\", \\\"zip\\\": \\\"\\\"}\"}}                                                              |\n",
      "|{\"id\": \"13833431\", \"case_number\": \"JJ252044\", \"date\": \"2025-05-10T13:00:00.000\", \"block\": \"049XX S PAULINA ST\", \"iucr\": \"0935\", \"primary_type\": \"MOTOR VEHICLE THEFT\", \"description\": \"THEFT / RECOVERY - TRUCK, BUS, MOBILE HOME\", \"location_description\": \"VACANT LOT / LAND\", \"arrest\": false, \"domestic\": false, \"beat\": \"0931\", \"district\": \"009\", \"ward\": \"20\", \"community_area\": \"61\", \"fbi_code\": \"07\", \"x_coordinate\": \"1165844\", \"y_coordinate\": \"1871979\", \"year\": \"2025\", \"updated_on\": \"2025-05-18T15:41:36.000\", \"latitude\": \"41.804294617\", \"longitude\": \"-87.667287033\", \"location\": {\"latitude\": \"41.804294617\", \"longitude\": \"-87.667287033\", \"human_address\": \"{\\\"address\\\": \\\"\\\", \\\"city\\\": \\\"\\\", \\\"state\\\": \\\"\\\", \\\"zip\\\": \\\"\\\"}\"}}   |\n",
      "+-----------------------------------------------------------------------------------------------------------------------------------------------------------------------------------------------------------------------------------------------------------------------------------------------------------------------------------------------------------------------------------------------------------------------------------------------------------------------------------------------------------------------------------------------------------------------------------------------------------------------------------------------------------------------------------------------------------------------------------------------------------+\n",
      "\n"
     ]
    }
   ],
   "source": [
    "# Display one complete JSON record\n",
    "df_raw.select(\"raw_json\").limit(5).show(5, False)"
   ]
  },
  {
   "cell_type": "code",
   "execution_count": 10,
   "id": "730101d1",
   "metadata": {},
   "outputs": [
    {
     "name": "stdout",
     "output_type": "stream",
     "text": [
      "Raw JSON Schema:\n",
      "root\n",
      " |-- raw_json: string (nullable = true)\n",
      "\n"
     ]
    }
   ],
   "source": [
    "print(\"Raw JSON Schema:\")\n",
    "df_raw.printSchema()\n",
    "# print(\"\\nParsed Schema:\")\n",
    "# df_parsed.printSchema()"
   ]
  },
  {
   "cell_type": "code",
   "execution_count": 21,
   "id": "b8cccb66",
   "metadata": {},
   "outputs": [
    {
     "name": "stderr",
     "output_type": "stream",
     "text": [
      "25/05/22 09:59:09 WARN AdminClientConfig: These configurations '[key.deserializer, value.deserializer, enable.auto.commit, max.poll.records, auto.offset.reset]' were supplied but are not used yet.\n"
     ]
    },
    {
     "name": "stdout",
     "output_type": "stream",
     "text": [
      "+--------+-----------+-------------------+--------------------+----+-------------------+--------------------+--------------------+------+--------+----+--------+----+--------------+--------+------------+------------+----+-------------------+------------+-------------+--------------------+\n",
      "|      ID|Case Number|               Date|               Block|IUCR|       Primary Type|         Description|Location Description|arrest|domestic|beat|district|ward|Community Area|FBI Code|X Coordinate|Y Coordinate|year|         Updated On|    latitude|    longitude|            location|\n",
      "+--------+-----------+-------------------+--------------------+----+-------------------+--------------------+--------------------+------+--------+----+--------+----+--------------+--------+------------+------------+----+-------------------+------------+-------------+--------------------+\n",
      "|13831323|   JJ249309|2025-05-10 09:41:00|   072XX N DAMEN AVE|0460|            BATTERY|              SIMPLE|           APARTMENT|  true|   false|2424|     024|  49|             1|     08B|     1161718|     1948098|2025|2025-05-18 15:41:36| 42.01325753|-87.680293897|{42.01325753, -87...|\n",
      "|13831657|   JJ249710|2025-05-10 15:30:00|078XX S MARSHFIEL...|0320|            ROBBERY|STRONG ARM - NO W...|            SIDEWALK| false|   false|0611|     006|  17|            71|      03|     1166703|     1852821|2025|2025-05-18 15:41:36|41.751704315|-87.664682949|{41.751704315, -8...|\n",
      "|13831985|   JJ250075|2025-05-10 22:37:00|  019XX N AUSTIN AVE|0550|            ASSAULT|AGGRAVATED POLICE...|PARKING LOT / GAR...| false|   false|2513|     025|  29|            25|     04A|     1136098|     1912178|2025|2025-05-18 15:41:36|41.915187259|-87.775425225|{41.915187259, -8...|\n",
      "|13832376|   JJ250617|2025-05-10 10:00:00|     028XX E 81ST ST|0560|            ASSAULT|              SIMPLE|           APARTMENT| false|   false|0422|     004|   7|            46|     08A|     1196349|     1851804|2025|2025-05-18 15:41:36|41.748229999|-87.556079463|{41.748229999, -8...|\n",
      "|13833431|   JJ252044|2025-05-10 13:00:00|  049XX S PAULINA ST|0935|MOTOR VEHICLE THEFT|THEFT / RECOVERY ...|   VACANT LOT / LAND| false|   false|0931|     009|  20|            61|      07|     1165844|     1871979|2025|2025-05-18 15:41:36|41.804294617|-87.667287033|{41.804294617, -8...|\n",
      "+--------+-----------+-------------------+--------------------+----+-------------------+--------------------+--------------------+------+--------+----+--------+----+--------------+--------+------------+------------+----+-------------------+------------+-------------+--------------------+\n",
      "only showing top 5 rows\n",
      "\n"
     ]
    }
   ],
   "source": [
    "schema = StructType([\n",
    "    StructField(\"id\", StringType(), True),\n",
    "    StructField(\"case_number\", StringType(), True),\n",
    "    StructField(\"date\", TimestampType(), True),\n",
    "    StructField(\"block\", StringType(), True),\n",
    "    StructField(\"iucr\", StringType(), True),\n",
    "    StructField(\"primary_type\", StringType(), True),\n",
    "    StructField(\"description\", StringType(), True),\n",
    "    StructField(\"location_description\", StringType(), True),\n",
    "    StructField(\"arrest\", BooleanType(), True),\n",
    "    StructField(\"domestic\", BooleanType(), True),\n",
    "    StructField(\"beat\", StringType(), True),\n",
    "    StructField(\"district\", StringType(), True),\n",
    "    StructField(\"ward\", StringType(), True),\n",
    "    StructField(\"community_area\", StringType(), True),\n",
    "    StructField(\"fbi_code\", StringType(), True),\n",
    "    StructField(\"x_coordinate\", StringType(), True),\n",
    "    StructField(\"y_coordinate\", StringType(), True),\n",
    "    StructField(\"year\", StringType(), True),\n",
    "    StructField(\"updated_on\", TimestampType(), True),\n",
    "    StructField(\"latitude\", StringType(), True),\n",
    "    StructField(\"longitude\", StringType(), True),\n",
    "    StructField(\"location\", StructType([\n",
    "        StructField(\"latitude\", StringType(), True),\n",
    "        StructField(\"longitude\", StringType(), True),\n",
    "        StructField(\"human_address\", StringType(), True)\n",
    "    ]), True)\n",
    "])\n",
    "\n",
    "# Parse JSON with updated schema\n",
    "df_parsed = df_kafka \\\n",
    "    .selectExpr(\"CAST(value AS STRING) as raw_json\") \\\n",
    "    .select(from_json(col(\"raw_json\"), schema).alias(\"data\")) \\\n",
    "    .select(\"data.*\") \\\n",
    "    .withColumnRenamed(\"id\", \"ID\") \\\n",
    "    .withColumnRenamed(\"case_number\", \"Case Number\") \\\n",
    "    .withColumnRenamed(\"date\", \"Date\") \\\n",
    "    .withColumnRenamed(\"block\", \"Block\") \\\n",
    "    .withColumnRenamed(\"iucr\", \"IUCR\") \\\n",
    "    .withColumnRenamed(\"primary_type\", \"Primary Type\") \\\n",
    "    .withColumnRenamed(\"description\", \"Description\") \\\n",
    "    .withColumnRenamed(\"location_description\", \"Location Description\") \\\n",
    "    .withColumnRenamed(\"community_area\", \"Community Area\") \\\n",
    "    .withColumnRenamed(\"fbi_code\", \"FBI Code\") \\\n",
    "    .withColumnRenamed(\"x_coordinate\", \"X Coordinate\") \\\n",
    "    .withColumnRenamed(\"y_coordinate\", \"Y Coordinate\") \\\n",
    "    .withColumnRenamed(\"updated_on\", \"Updated On\") \\\n",
    "    .withColumn(\"latitude\", col(\"latitude\").cast(\"double\")) \\\n",
    "    .withColumn(\"longitude\", col(\"longitude\").cast(\"double\")) \\\n",
    "    \n",
    "\n",
    "# Verify the parsing worked\n",
    "df_parsed.show(5)"
   ]
  },
  {
   "cell_type": "code",
   "execution_count": 39,
   "id": "68ff762c",
   "metadata": {},
   "outputs": [
    {
     "name": "stderr",
     "output_type": "stream",
     "text": [
      "[Stage 39:======================================>                   (2 + 1) / 3]\r"
     ]
    },
    {
     "name": "stdout",
     "output_type": "stream",
     "text": [
      "Original df count: 1259460\n"
     ]
    },
    {
     "name": "stderr",
     "output_type": "stream",
     "text": [
      "25/05/18 09:31:44 WARN AdminClientConfig: These configurations '[key.deserializer, value.deserializer, enable.auto.commit, max.poll.records, auto.offset.reset]' were supplied but are not used yet.\n",
      "25/05/18 09:31:49 WARN AdminClientConfig: These configurations '[key.deserializer, value.deserializer, enable.auto.commit, max.poll.records, auto.offset.reset]' were supplied but are not used yet.\n"
     ]
    },
    {
     "name": "stdout",
     "output_type": "stream",
     "text": [
      "Parsed df count: 245389\n"
     ]
    },
    {
     "name": "stderr",
     "output_type": "stream",
     "text": [
      "25/05/18 09:31:54 WARN AdminClientConfig: These configurations '[key.deserializer, value.deserializer, enable.auto.commit, max.poll.records, auto.offset.reset]' were supplied but are not used yet.\n"
     ]
    },
    {
     "name": "stdout",
     "output_type": "stream",
     "text": [
      "Combined df count: 1504849\n",
      "+--------+-----------+--------------------+--------------------+----+------------------+--------------------+--------------------+------+--------+----+--------+----+--------------+--------+------------+------------+----+--------------------+------------+-------------+--------------------+\n",
      "|      ID|Case Number|                Date|               Block|IUCR|      Primary Type|         Description|Location Description|Arrest|Domestic|Beat|District|Ward|Community Area|FBI Code|X Coordinate|Y Coordinate|Year|          Updated On|    Latitude|    Longitude|            Location|\n",
      "+--------+-----------+--------------------+--------------------+----+------------------+--------------------+--------------------+------+--------+----+--------+----+--------------+--------+------------+------------+----+--------------------+------------+-------------+--------------------+\n",
      "|13829197|   JJ246652|05/08/2025 12:00:...|     040XX W LAKE ST|1310|   CRIMINAL DAMAGE|         TO PROPERTY|         CTA STATION| false|   false|1114|      11|  28|            26|      14|   1149512.0|   1901446.0|2025|05/15/2025 03:42:...|41.885487535|-87.726422045|(41.885487535, -8...|\n",
      "|13829783|   JJ247423|05/08/2025 12:00:...|091XX S EBERHART AVE|0710|             THEFT|THEFT FROM MOTOR ...|              STREET| false|   false| 633|       6|   8|            44|      06|   1181180.0|   1844514.0|2025|05/15/2025 03:42:...|41.728587966| -87.61188701|(41.728587966, -8...|\n",
      "|13829409|   JJ246986|05/08/2025 12:00:...|087XX S BLACKSTON...|1153|DECEPTIVE PRACTICE|FINANCIAL IDENTIT...|           APARTMENT| false|   false| 412|       4|   8|            48|      11|   1187647.0|   1847255.0|2025|05/15/2025 03:42:...|41.735958374| -87.58811034|(41.735958374, -8...|\n",
      "|13829150|   JJ246602|05/08/2025 12:00:...|036XX W LEXINGTON ST|0820|             THEFT|      $500 AND UNDER|           APARTMENT| false|    true|1133|      11|  24|            27|      06|   1152148.0|   1896451.0|2025|05/15/2025 03:42:...|41.871729153|-87.716873835|(41.871729153, -8...|\n",
      "|13833311|   JJ251958|05/08/2025 12:00:...| 115XX S WATKINS AVE|1153|DECEPTIVE PRACTICE|FINANCIAL IDENTIT...|           RESIDENCE| false|   false|2234|      22|  21|            75|      11|   1166350.0|   1828232.0|2025|05/15/2025 03:42:...|41.684235754|-87.666674261|(41.684235754, -8...|\n",
      "+--------+-----------+--------------------+--------------------+----+------------------+--------------------+--------------------+------+--------+----+--------+----+--------------+--------+------------+------------+----+--------------------+------------+-------------+--------------------+\n",
      "only showing top 5 rows\n",
      "\n"
     ]
    }
   ],
   "source": [
    "# First rename columns in df_parsed to match df's column names\n",
    "df_parsed_aligned = df_parsed \\\n",
    "    .withColumnRenamed(\"id\", \"ID\") \\\n",
    "    .withColumnRenamed(\"case_number\", \"Case Number\") \\\n",
    "    .withColumnRenamed(\"date\", \"Date\") \\\n",
    "    .withColumnRenamed(\"block\", \"Block\") \\\n",
    "    .withColumnRenamed(\"iucr\", \"IUCR\") \\\n",
    "    .withColumnRenamed(\"primary_type\", \"Primary Type\") \\\n",
    "    .withColumnRenamed(\"description\", \"Description\") \\\n",
    "    .withColumnRenamed(\"location_description\", \"Location Description\") \\\n",
    "    .withColumnRenamed(\"community_area\", \"Community Area\") \\\n",
    "    .withColumnRenamed(\"fbi_code\", \"FBI Code\") \\\n",
    "    .withColumnRenamed(\"x_coordinate\", \"X Coordinate\") \\\n",
    "    .withColumnRenamed(\"y_coordinate\", \"Y Coordinate\") \\\n",
    "    .withColumnRenamed(\"updated_on\", \"Updated On\")\n",
    "\n",
    "# Combine the DataFrames using unionByName\n",
    "combined_df = df1.unionByName(df_parsed_aligned)\n",
    "\n",
    "# Show the count before and after combining\n",
    "print(f\"Original df count: {df.count()}\")\n",
    "print(f\"Parsed df count: {df_parsed.count()}\")\n",
    "print(f\"Combined df count: {combined_df.count()}\")\n",
    "\n",
    "# Verify the combined data\n",
    "combined_df.show(5)"
   ]
  },
  {
   "cell_type": "code",
   "execution_count": 48,
   "id": "48d8ce21",
   "metadata": {},
   "outputs": [
    {
     "name": "stderr",
     "output_type": "stream",
     "text": [
      "                                                                                \r"
     ]
    }
   ],
   "source": [
    "output_path = f\"gs://{gcs_bucket}/US-chicago/2020To-Present\"\n",
    "filtered_df.coalesce(1) \\\n",
    "    .write \\\n",
    "    .format(\"csv\") \\\n",
    "    .mode(\"overwrite\") \\\n",
    "    .option(\"header\", \"true\") \\\n",
    "    .option(\"compression\", \"none\") \\\n",
    "    .save(output_path)"
   ]
  },
  {
   "cell_type": "code",
   "execution_count": 49,
   "id": "0f1fee27",
   "metadata": {},
   "outputs": [
    {
     "name": "stdout",
     "output_type": "stream",
     "text": [
      "root\n",
      " |-- ID: integer (nullable = true)\n",
      " |-- Case Number: string (nullable = true)\n",
      " |-- Date: timestamp (nullable = true)\n",
      " |-- Block: string (nullable = true)\n",
      " |-- IUCR: string (nullable = true)\n",
      " |-- Primary Type: string (nullable = true)\n",
      " |-- Description: string (nullable = true)\n",
      " |-- Location Description: string (nullable = true)\n",
      " |-- Arrest: boolean (nullable = true)\n",
      " |-- Domestic: boolean (nullable = true)\n",
      " |-- Beat: integer (nullable = true)\n",
      " |-- District: integer (nullable = true)\n",
      " |-- Ward: integer (nullable = true)\n",
      " |-- Community Area: integer (nullable = true)\n",
      " |-- FBI Code: string (nullable = true)\n",
      " |-- X Coordinate: integer (nullable = true)\n",
      " |-- Y Coordinate: integer (nullable = true)\n",
      " |-- Year: integer (nullable = true)\n",
      " |-- Updated On: timestamp (nullable = true)\n",
      " |-- Latitude: double (nullable = true)\n",
      " |-- Longitude: double (nullable = true)\n",
      " |-- Location: string (nullable = true)\n",
      "\n"
     ]
    }
   ],
   "source": [
    "filtered_df.printSchema()"
   ]
  },
  {
   "cell_type": "code",
   "execution_count": null,
   "id": "058c4c78",
   "metadata": {},
   "outputs": [],
   "source": [
    "## append file to bucket\n",
    "\n",
    "# output_path = f\"gs://{gcs_bucket}/Chicago.csv\"\n",
    "# df_parsed_aligned.coalesce(1) \\\n",
    "#     .write \\\n",
    "#     .format(\"csv\") \\\n",
    "#     .mode(\"append\") \\\n",
    "#     .option(\"header\", \"false\") \\\n",
    "#     .option(\"compression\", \"none\") \\\n",
    "#     .save(output_path)"
   ]
  },
  {
   "cell_type": "code",
   "execution_count": 5,
   "id": "791fb7de",
   "metadata": {},
   "outputs": [],
   "source": [
    "df_kafka = spark.read \\\n",
    "        .format(\"kafka\") \\\n",
    "        .option(\"kafka.bootstrap.servers\", \"localhost:9092\") \\\n",
    "        .option(\"subscribe\", \"chicago_crimes_test1\") \\\n",
    "        .option(\"startingOffsets\", \"earliest\") \\\n",
    "        .load()"
   ]
  },
  {
   "cell_type": "code",
   "execution_count": 19,
   "id": "c9cca118",
   "metadata": {},
   "outputs": [],
   "source": [
    "schema = StructType([\n",
    "    StructField(\"id\", StringType(), True),\n",
    "    StructField(\"case_number\", StringType(), True),\n",
    "    StructField(\"date\", StringType(), True),\n",
    "    StructField(\"block\", StringType(), True),\n",
    "    StructField(\"iucr\", StringType(), True),\n",
    "    StructField(\"primary_type\", StringType(), True),\n",
    "    StructField(\"description\", StringType(), True),\n",
    "    StructField(\"location_description\", StringType(), True),\n",
    "    StructField(\"arrest\", BooleanType(), True),\n",
    "    StructField(\"domestic\", BooleanType(), True),\n",
    "    StructField(\"beat\", StringType(), True),\n",
    "    StructField(\"district\", StringType(), True),\n",
    "    StructField(\"ward\", StringType(), True),\n",
    "    StructField(\"community_area\", StringType(), True),\n",
    "    StructField(\"fbi_code\", StringType(), True),\n",
    "    StructField(\"x_coordinate\", StringType(), True),  # Changed to StringType\n",
    "    StructField(\"y_coordinate\", StringType(), True),  # Changed to StringType\n",
    "    StructField(\"year\", StringType(), True),         # Changed to StringType\n",
    "    StructField(\"updated_on\", StringType(), True),\n",
    "    StructField(\"latitude\", StringType(), True),\n",
    "    StructField(\"longitude\", StringType(), True),\n",
    "    StructField(\"location\", StructType([\n",
    "        StructField(\"latitude\", StringType(), True),\n",
    "        StructField(\"longitude\", StringType(), True),\n",
    "        StructField(\"human_address\", StringType(), True)\n",
    "    ]), True)\n",
    "])"
   ]
  },
  {
   "cell_type": "code",
   "execution_count": 27,
   "id": "ae10d59b",
   "metadata": {},
   "outputs": [],
   "source": [
    "df_transformed = df_kafka \\\n",
    "    .selectExpr(\"CAST(value AS STRING) as raw_json\") \\\n",
    "    .select(from_json(col(\"raw_json\"), schema).alias(\"data\")) \\\n",
    "    .select(\"data.*\") \\\n",
    "    .withColumnRenamed(\"id\", \"ID\") \\\n",
    "    .withColumnRenamed(\"case_number\", \"Case Number\") \\\n",
    "    .withColumnRenamed(\"date\", \"Date\") \\\n",
    "    .withColumnRenamed(\"block\", \"Block\") \\\n",
    "    .withColumnRenamed(\"iucr\", \"IUCR\") \\\n",
    "    .withColumnRenamed(\"primary_type\", \"Primary Type\") \\\n",
    "    .withColumnRenamed(\"description\", \"Description\") \\\n",
    "    .withColumnRenamed(\"location_description\", \"Location Description\") \\\n",
    "    .withColumnRenamed(\"community_area\", \"Community Area\") \\\n",
    "    .withColumnRenamed(\"fbi_code\", \"FBI Code\") \\\n",
    "    .withColumnRenamed(\"x_coordinate\", \"X Coordinate\") \\\n",
    "    .withColumnRenamed(\"y_coordinate\", \"Y Coordinate\") \\\n",
    "    .withColumnRenamed(\"updated_on\", \"Updated On\") \\\n",
    "    .withColumn(\"Updated On\", to_timestamp(\"Updated On\")) \\\n",
    "    .withColumn(\"Date\", to_timestamp(\"Date\")) \\\n",
    "    .withColumn(\"latitude\", col(\"latitude\").cast(\"double\")) \\\n",
    "    .withColumn(\"longitude\", col(\"longitude\").cast(\"double\"))"
   ]
  },
  {
   "cell_type": "code",
   "execution_count": 31,
   "id": "8af9d149",
   "metadata": {},
   "outputs": [],
   "source": [
    "formatted_df = df_transformed.select(\n",
    "    col(\"ID\"),\n",
    "    col(\"Case Number\"),\n",
    "    date_format(col(\"Date\"), \"yyyy-MM-dd HH:mm:ss\").alias(\"Date\"),\n",
    "    col(\"Block\"),\n",
    "    col(\"IUCR\"),\n",
    "    col(\"Primary Type\"),\n",
    "    col(\"Description\"),\n",
    "    col(\"Location Description\"),\n",
    "    col(\"arrest\"),\n",
    "    col(\"domestic\"),\n",
    "    col(\"beat\"),\n",
    "    col(\"district\"),\n",
    "    col(\"ward\"),\n",
    "    col(\"Community Area\"),\n",
    "    col(\"FBI Code\"),\n",
    "    # Handle coordinates without casting since they're already strings\n",
    "    col(\"X Coordinate\"),\n",
    "    col(\"Y Coordinate\"),\n",
    "    col(\"year\"),\n",
    "    date_format(col(\"Updated On\"), \"yyyy-MM-dd HH:mm:ss\").alias(\"Updated On\"),\n",
    "    col(\"latitude\"),\n",
    "    col(\"longitude\"),\n",
    "    # Handle location with proper struct type\n",
    "    when(col(\"location\").isNotNull(), \n",
    "        to_json(struct(\n",
    "            coalesce(col(\"location.latitude\"), col(\"latitude\")).alias(\"latitude\"),\n",
    "            coalesce(col(\"location.longitude\"), col(\"longitude\")).alias(\"longitude\"),\n",
    "            coalesce(col(\"location.human_address\"), \n",
    "                    lit(\"{\\\"address\\\": \\\"\\\", \\\"city\\\": \\\"\\\", \\\"state\\\": \\\"\\\", \\\"zip\\\": \\\"\\\"}\"))\n",
    "                .alias(\"human_address\")\n",
    "        ))\n",
    "    ).alias(\"location\")\n",
    ")"
   ]
  },
  {
   "cell_type": "code",
   "execution_count": 32,
   "id": "23ee007a",
   "metadata": {},
   "outputs": [
    {
     "name": "stderr",
     "output_type": "stream",
     "text": [
      "25/05/19 15:44:33 WARN AdminClientConfig: These configurations '[key.deserializer, value.deserializer, enable.auto.commit, max.poll.records, auto.offset.reset]' were supplied but are not used yet.\n"
     ]
    },
    {
     "name": "stdout",
     "output_type": "stream",
     "text": [
      "+--------+-----------+-------------------+--------------------+----+-------------------+--------------------+--------------------+------+--------+----+--------+----+--------------+--------+------------+------------+----+-------------------+------------+-------------+--------------------+\n",
      "|      ID|Case Number|               Date|               Block|IUCR|       Primary Type|         Description|Location Description|arrest|domestic|beat|district|ward|Community Area|FBI Code|X Coordinate|Y Coordinate|year|         Updated On|    latitude|    longitude|            location|\n",
      "+--------+-----------+-------------------+--------------------+----+-------------------+--------------------+--------------------+------+--------+----+--------+----+--------------+--------+------------+------------+----+-------------------+------------+-------------+--------------------+\n",
      "|13831737|   JJ249165|2025-05-09 16:09:00|   0000X E Grand Ave|1150| DECEPTIVE PRACTICE|   CREDIT CARD FRAUD|    DEPARTMENT STORE| false|   false|1834|     018|  42|             8|      11|     1176796|     1903917|2025|2025-05-17 15:42:19|41.891694878|-87.626155832|{\"latitude\":\"41.8...|\n",
      "|13830148|   JJ247807|2025-05-09 02:13:00|028XX W MARQUETTE RD|143A|  WEAPONS VIOLATION|UNLAWFUL POSSESSI...|              STREET|  true|   false|0831|     008|  15|            66|      15|     1158782|     1860091|2025|2025-05-17 15:42:19|41.771819552|-87.693511744|{\"latitude\":\"41.7...|\n",
      "|13832656|   JJ251020|2025-05-09 10:00:00|  057XX S CICERO AVE|0910|MOTOR VEHICLE THEFT|          AUTOMOBILE| AIRPORT PARKING LOT| false|   false|0813|     008|  13|            56|      07|     1145654|     1866253|2025|2025-05-17 15:42:19|41.788987036| -87.74147999|{\"latitude\":\"41.7...|\n",
      "|13830347|   JJ248008|2025-05-09 07:10:00|023XX S MARSHALL ...|1310|    CRIMINAL DAMAGE|         TO PROPERTY|           APARTMENT| false|   false|1033|     010|  24|            30|      14|     1157074|     1888244|2025|2025-05-17 15:42:19|41.849109767|-87.699011051|{\"latitude\":\"41.8...|\n",
      "|   28686|   JJ248340|2025-05-09 14:49:00|038XX W ARTHINGTO...|0110|           HOMICIDE| FIRST DEGREE MURDER|              STREET| false|   false|1133|     011|  24|            26|     01A|     1151022|     1895762|2025|2025-05-17 15:42:19|41.869860575|-87.721025907|{\"latitude\":\"41.8...|\n",
      "|13831241|   JJ249293|2025-05-09 13:30:00|008XX W ARMITAGE AVE|0860|              THEFT|        RETAIL THEFT|  SMALL RETAIL STORE| false|   false|1813|     018|  43|             7|      06|     1170195|     1913506|2025|2025-05-17 15:42:19|41.918154385|-87.650117624|{\"latitude\":\"41.9...|\n",
      "|13830272|   JJ247964|2025-05-09 08:27:00|  006XX W MADISON ST|0930|MOTOR VEHICLE THEFT|THEFT / RECOVERY ...|COMMERCIAL / BUSI...| false|   false|0121|     001|  34|            28|      07|     1172231|     1900286|2025|2025-05-17 15:42:19|41.881833204|-87.643028117|{\"latitude\":\"41.8...|\n",
      "|13832901|   JJ251261|2025-05-09 20:00:00|   003XX S HOYNE AVE|0910|MOTOR VEHICLE THEFT|          AUTOMOBILE|              STREET| false|   false|1225|     012|  27|            28|      07|     1162451|     1898592|2025|2025-05-17 15:42:19|41.877394974|-87.678987408|{\"latitude\":\"41.8...|\n",
      "|13831071|   JJ249032|2025-05-10 00:00:00|     025XX W 24TH ST|0560|            ASSAULT|              SIMPLE|PARKING LOT / GAR...| false|   false|1034|     010|  25|            31|     08A|     1159791|     1887988|2025|2025-05-17 15:42:19| 41.84835177|-87.689046399|{\"latitude\":\"41.8...|\n",
      "|13830139|   JJ247785|2025-05-09 00:50:00|     015XX W 91ST ST|041A|            BATTERY|AGGRAVATED - HANDGUN|            SIDEWALK| false|   false|2221|     022|  21|            73|     04B|     1167837|     1844390|2025|2025-05-17 15:42:19|41.728544182|-87.660768821|{\"latitude\":\"41.7...|\n",
      "|13830426|   JJ248234|2025-05-09 12:30:00|059XX S CARPENTER ST|051A|            ASSAULT|AGGRAVATED - HANDGUN|           APARTMENT| false|   false|0712|     007|  16|            68|     04A|     1170330|     1865368|2025|2025-05-17 15:42:19|41.786056723|-87.651026938|{\"latitude\":\"41.7...|\n",
      "|13837829|   JJ257584|2025-04-30 11:10:00| 056XX N ROCKWELL ST|1156| DECEPTIVE PRACTICE|ATTEMPT - FINANCI...|           APARTMENT| false|   false|2011|     020|  40|             2|      11|        NULL|        NULL|2025|2025-05-17 15:42:19|        NULL|         NULL|                NULL|\n",
      "|13831531|   JJ249637|2025-05-09 21:30:00|   014XX W ESTES AVE|0930|MOTOR VEHICLE THEFT|THEFT / RECOVERY ...|              STREET| false|   false|2423|     024|  49|             1|      07|     1165584|     1947509|2025|2025-05-17 15:42:19|42.011559493|-87.666085765|{\"latitude\":\"42.0...|\n",
      "|13836643|   JJ255712|2025-05-09 17:00:00|     008XX N RUSH ST|0820|              THEFT|      $500 AND UNDER|AUTO / BOAT / RV ...| false|   false|1833|     018|  42|             8|      06|     1176786|     1906166|2025|2025-05-17 15:42:19|41.897866471|-87.626124476|{\"latitude\":\"41.8...|\n",
      "|13830589|   JJ248244|2025-05-09 12:25:00|047XX W VAN BUREN ST|051A|            ASSAULT|AGGRAVATED - HANDGUN|           APARTMENT| false|    true|1131|     011|  28|            25|     04A|     1144937|     1897608|2025|2025-05-17 15:42:19|41.875043163|-87.743319382|{\"latitude\":\"41.8...|\n",
      "|13830322|   JJ248010|2025-05-09 09:26:00|  049XX N ALBANY AVE|0560|            ASSAULT|              SIMPLE|               ALLEY| false|   false|1713|     017|  33|            14|     08A|     1154815|     1932723|2025|2025-05-17 15:42:19|  41.9712095|-87.706108126|{\"latitude\":\"41.9...|\n",
      "|13837992|   JJ256829|2025-05-10 00:00:00|  033XX N HALSTED ST|0870|              THEFT|      POCKET-PICKING|       BAR OR TAVERN| false|   false|1925|     019|  44|             6|      06|        NULL|        NULL|2025|2025-05-17 15:42:19|        NULL|         NULL|                NULL|\n",
      "|13830879|   JJ248703|2025-05-09 14:30:00|  019XX W BERWYN AVE|0560|            ASSAULT|              SIMPLE|              STREET| false|    true|2012|     020|  40|             4|     08A|     1162582|     1935212|2025|2025-05-17 15:42:19|41.977879826|-87.677477938|{\"latitude\":\"41.9...|\n",
      "|13830977|   JJ248971|2025-05-09 23:46:00|     008XX W 49TH PL|143A|  WEAPONS VIOLATION|UNLAWFUL POSSESSI...|              STREET|  true|   false|0933|     009|  20|            61|      15|     1171608|     1872026|2025|2025-05-17 15:42:19|41.804299074|-87.646146031|{\"latitude\":\"41.8...|\n",
      "|13833471|   JJ252040|2025-05-09 18:53:00| 002XX E CHESTNUT ST|4387|      OTHER OFFENSE|VIOLATE ORDER OF ...|           APARTMENT| false|    true|1833|     018|   2|             8|      26|     1178637|     1906397|2025|2025-05-17 15:42:19|41.898458275|-87.619318967|{\"latitude\":\"41.8...|\n",
      "+--------+-----------+-------------------+--------------------+----+-------------------+--------------------+--------------------+------+--------+----+--------+----+--------------+--------+------------+------------+----+-------------------+------------+-------------+--------------------+\n",
      "only showing top 20 rows\n",
      "\n"
     ]
    }
   ],
   "source": [
    "formatted_df.show()"
   ]
  }
 ],
 "metadata": {
  "kernelspec": {
   "display_name": "Python 3",
   "language": "python",
   "name": "python3"
  },
  "language_info": {
   "codemirror_mode": {
    "name": "ipython",
    "version": 3
   },
   "file_extension": ".py",
   "mimetype": "text/x-python",
   "name": "python",
   "nbconvert_exporter": "python",
   "pygments_lexer": "ipython3",
   "version": "3.8.10"
  }
 },
 "nbformat": 4,
 "nbformat_minor": 5
}
